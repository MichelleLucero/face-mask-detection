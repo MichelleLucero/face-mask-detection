{
 "cells": [
  {
   "cell_type": "code",
   "execution_count": 1,
   "metadata": {},
   "outputs": [],
   "source": [
    "#import libraries\n",
    "from sklearn.model_selection import train_test_split\n",
    "import numpy as np\n",
    "import os\n",
    "import PIL\n",
    "import cv2\n",
    "import pickle\n",
    "#NOTE: you may have to download openCV, sklearn, PIL, "
   ]
  },
  {
   "cell_type": "code",
   "execution_count": 2,
   "metadata": {},
   "outputs": [],
   "source": [
    "DIRECTORY = \"C:data/\"\n",
    "CATEGORIES = ['WithoutMask','IncorrectlyWornMask', 'WithMask']\n",
    "IMG_SIZE = 224\n",
    "\n",
    "#data\n",
    "X = []\n",
    "#labels(0,1,2)\n",
    "y = []\n",
    "\n",
    "\n",
    "def create_data():\n",
    "    for category in CATEGORIES:\n",
    "        path = os.path.join(DIRECTORY, category)\n",
    "        class_num_label = CATEGORIES.index(category)\n",
    "        for img in os.listdir(path):\n",
    "            try:\n",
    "                img_array = cv2.imread(os.path.join(path,img), cv2.IMREAD_GRAYSCALE)\n",
    "                img_array = cv2.resize(img_array, (IMG_SIZE,IMG_SIZE))\n",
    "                X.append(img_array)\n",
    "                y.append(class_num_label)\n",
    "            except Exeption as e:\n",
    "                pass\n",
    "            \n",
    "create_data()"
   ]
  },
  {
   "cell_type": "code",
   "execution_count": 3,
   "metadata": {},
   "outputs": [],
   "source": [
    "#turn X and y into numpy arrays\n",
    "X = np.array(X).reshape(-1, IMG_SIZE, IMG_SIZE)\n",
    "y = np.array(y)"
   ]
  },
  {
   "cell_type": "code",
   "execution_count": 4,
   "metadata": {},
   "outputs": [],
   "source": [
    "#Saves us from having to regenerate our data by saving our data\n",
    "pickle_out = open(\"X.pickle\", \"wb\")\n",
    "pickle.dump(X, pickle_out)\n",
    "pickle_out.close()\n",
    "\n",
    "pickle_out = open(\"y.pickle\", \"wb\")\n",
    "pickle.dump(y, pickle_out)\n",
    "pickle_out.close()\n"
   ]
  },
  {
   "cell_type": "code",
   "execution_count": 5,
   "metadata": {},
   "outputs": [],
   "source": [
    "pickle_in = open(\"X.pickle\", \"rb\")\n",
    "X = pickle.load(pickle_in)\n",
    "pickle_in = open(\"y.pickle\", \"rb\")\n",
    "y = pickle.load(pickle_in)"
   ]
  },
  {
   "cell_type": "code",
   "execution_count": 8,
   "metadata": {},
   "outputs": [
    {
     "name": "stdout",
     "output_type": "stream",
     "text": [
      "# of Samples: 17687\n",
      "# of Without A Mask: 5909\n",
      "# of Incorrectly Worn Mask: 5895\n",
      "# of With A Mask: 5883\n"
     ]
    }
   ],
   "source": [
    "print('# of Samples:', len(y))\n",
    "print('# of Without A Mask:', (y == 0).sum())\n",
    "print('# of Incorrectly Worn Mask:', (y == 1).sum())\n",
    "print('# of With A Mask:', (y == 2).sum())"
   ]
  },
  {
   "cell_type": "code",
   "execution_count": 9,
   "metadata": {},
   "outputs": [
    {
     "name": "stdout",
     "output_type": "stream",
     "text": [
      "Length of our Training data:  14149 \n",
      "Length of our Testing data:  3538\n"
     ]
    }
   ],
   "source": [
    "# Split our data into testing and training.\n",
    "X_train, X_test, y_train, y_test = train_test_split(X, y, test_size=0.2, random_state=45)\n",
    "\n",
    "# Print the length and width of our testing data.\n",
    "print('Length of our Training data: ',len(X_train), '\\nLength of our Testing data: ',len(X_test))"
   ]
  }
 ],
 "metadata": {
  "kernelspec": {
   "display_name": "Python 3",
   "language": "python",
   "name": "python3"
  },
  "language_info": {
   "codemirror_mode": {
    "name": "ipython",
    "version": 3
   },
   "file_extension": ".py",
   "mimetype": "text/x-python",
   "name": "python",
   "nbconvert_exporter": "python",
   "pygments_lexer": "ipython3",
   "version": "3.7.9"
  }
 },
 "nbformat": 4,
 "nbformat_minor": 4
}
