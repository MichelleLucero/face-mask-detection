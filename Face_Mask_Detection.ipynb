{
 "cells": [
  {
   "cell_type": "markdown",
   "metadata": {},
   "source": [
    "# Face Mask Detection\n",
    "\n",
    "Design an algorithm that most accurately determines whether an individual is wearing a mask, not wearing a mask, or wearing a mask incorrectly.\n",
    "\n",
    "Given the suddenness of the current COVID-19 pandemic, relatively few research papers that address face mask coverage are available. It should be noted however, that the machine learning models currently available, while minimal, yield promising results.\n",
    "\n",
    "Currently, the paper, “A hybrid deep transfer learning model with machine learning methods for face mask detection in the era of the COVID-19 pandemic,” does not account for wearing masks incorrectly (Loey, M et al., 2021). We plan to address this third classification in our research and use our findings to build our own face-detection-model that accounts for this category. To accomplish this we plan to use a combination of different datasets available to create a new dataset that is labelled for mask v. no mask v. incorrect wearing of a mask. We will also add in a few more classifiers not used in the original study such as KNN and different types of CNN to gauge which models are the best predictors. We hope to use these insights to create our own face-detection model.\n"
   ]
  },
  {
   "cell_type": "markdown",
   "metadata": {},
   "source": [
    "## Determine feature set for detecting mask, no mask, incorrect mask. \n",
    "Gather any other important studies around our topic\n",
    "\n",
    "## Data Preprocessing is done\n",
    "\n",
    "## Combine all of the datasets\n",
    "\n",
    "## Determine multi-class versus binary classifications\n",
    "\n",
    "## EDA\n",
    "\n",
    "## Create a facial landmark features set for the dataframe (What are our base features for comparing mask v. no mask?)\n"
   ]
  }
 ],
 "metadata": {
  "kernelspec": {
   "display_name": "Python 3",
   "language": "python",
   "name": "python3"
  },
  "language_info": {
   "codemirror_mode": {
    "name": "ipython",
    "version": 3
   },
   "file_extension": ".py",
   "mimetype": "text/x-python",
   "name": "python",
   "nbconvert_exporter": "python",
   "pygments_lexer": "ipython3",
   "version": "3.8.3"
  }
 },
 "nbformat": 4,
 "nbformat_minor": 4
}
