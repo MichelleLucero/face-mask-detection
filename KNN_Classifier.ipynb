{
 "cells": [
  {
   "cell_type": "markdown",
   "metadata": {},
   "source": [
    "# KNN Multi-Class (Mask, No Mask, Incorrect Mask)\n",
    "\n",
    "Things to consider:\n",
    "\n",
    "- [ ] Curse of Dimensionality (4096 space)\n",
    "- [ ] Hyperparameter Tuning\n",
    "    - [X] Distance Metrics\n",
    "    - [X] KNN, K\n",
    "    - [ ] Uniform V. Weighted\n",
    "- [X] More Performance Metrics\n",
    "- [ ] Overfitting "
   ]
  },
  {
   "cell_type": "markdown",
   "metadata": {},
   "source": [
    "## Imports"
   ]
  },
  {
   "cell_type": "code",
   "execution_count": 1,
   "metadata": {},
   "outputs": [],
   "source": [
    "# import packages\n",
    "from sklearn.neighbors import KNeighborsClassifier\n",
    "from sklearn.model_selection import train_test_split\n",
    "from imutils import paths\n",
    "\n",
    "import pandas as pd\n",
    "import numpy as np\n",
    "import matplotlib.pyplot as plt # to plot inage, graph\n",
    "\n",
    "import os\n",
    "import PIL\n",
    "import cv2\n",
    "import pickle\n",
    "import time # for computation time assessment\n",
    "%matplotlib inline"
   ]
  },
  {
   "cell_type": "markdown",
   "metadata": {},
   "source": [
    "## Get Feature and Target Extraction"
   ]
  },
  {
   "cell_type": "markdown",
   "metadata": {},
   "source": [
    "### Pickle Dataset"
   ]
  },
  {
   "cell_type": "code",
   "execution_count": 2,
   "metadata": {},
   "outputs": [],
   "source": [
    "pickle_in = open(\"X.pickle\", \"rb\")\n",
    "X = pickle.load(pickle_in)\n",
    "pickle_in = open(\"y.pickle\", \"rb\")\n",
    "y = pickle.load(pickle_in)\n",
    "pickle_in = open(\"data.pickle\", \"rb\")\n",
    "data = pickle.load(pickle_in) # Data Matrix will serve as X"
   ]
  },
  {
   "cell_type": "markdown",
   "metadata": {},
   "source": [
    "### Dataset Classification Distribution"
   ]
  },
  {
   "cell_type": "code",
   "execution_count": 3,
   "metadata": {},
   "outputs": [
    {
     "name": "stdout",
     "output_type": "stream",
     "text": [
      "# of Samples: 17687\n",
      "# of Without A Mask: 5909\n",
      "# of Incorrectly Worn Mask: 5895\n",
      "# of With A Mask: 5883\n",
      "\n",
      "[INFO] image matrix: 70.75MB\n",
      "[INFO] target matrix: 0.14MB\n",
      "[INFO] data/features matrix: 70.75MB\n",
      "    P0   P1   P2   P3   P4   P5   P6   P7   P8   P9  ... P4086 P4087 P4088  \\\n",
      "0   20   21   19   22   29   31   37   51   54   37  ...   132   131   106   \n",
      "1  127  127  125  126   87   69   34   30   33   37  ...   141   156   156   \n",
      "2   48   43   37   34   34   40   49   83  100  106  ...    79    58    41   \n",
      "3  184   91   63   25   14   17   15   35   44   41  ...    84    86    53   \n",
      "4  111  125  126   97  109  140  168  185  166   91  ...   138    61    27   \n",
      "\n",
      "  P4089 P4090 P4091 P4092 P4093 P4094 P4095  \n",
      "0   158   125    43    24    21    21    34  \n",
      "1   149   150   149   145   125   115   103  \n",
      "2    21    14    19    22    23    20    21  \n",
      "3    17    13    13    14    11    13    15  \n",
      "4    35    30    38    34    45    54    48  \n",
      "\n",
      "[5 rows x 4096 columns]\n",
      "   Mask_Target\n",
      "0            0\n",
      "1            0\n",
      "2            0\n",
      "3            0\n",
      "4            0\n"
     ]
    }
   ],
   "source": [
    "print('# of Samples:', len(y))\n",
    "print('# of Without A Mask:', (y == 0).sum())\n",
    "print('# of Incorrectly Worn Mask:', (y == 1).sum())\n",
    "print('# of With A Mask:', (y == 2).sum())\n",
    "\n",
    "# How much memory X features takes up\n",
    "print(\"\\n[INFO] image matrix: {:.2f}MB\".format(\n",
    "    X.nbytes / (1024 * 1000.0)))\n",
    "\n",
    "# How much memory y target takes up\n",
    "print(\"[INFO] target matrix: {:.2f}MB\".format(\n",
    "    y.nbytes / (1024 * 1000.0)))\n",
    "\n",
    "# How much memory data features takes up\n",
    "print(\"[INFO] data/features matrix: {:.2f}MB\".format(\n",
    "    data.nbytes / (1024 * 1000.0)))\n",
    "\n",
    "# Data numpy to dataframe\n",
    "cols = [] # Get Column Names\n",
    "\n",
    "for i in range(0, len(data[0])):\n",
    "    cols.append(\"P\" + str(i))\n",
    "    \n",
    "numpy_data = data\n",
    "X = pd.DataFrame(data=numpy_data, columns=[cols])\n",
    "print(X.head())\n",
    "\n",
    "y = pd.DataFrame(data=y, columns=[\"Mask_Target\"])\n",
    "print(y.head())"
   ]
  },
  {
   "cell_type": "code",
   "execution_count": 4,
   "metadata": {},
   "outputs": [
    {
     "name": "stdout",
     "output_type": "stream",
     "text": [
      "\n",
      "Image Data Shape: (17687, 4096)\n",
      "Image Data Shape Features: (17687, 4096)\n",
      "Image Data Shape Target: (17687, 1)\n"
     ]
    }
   ],
   "source": [
    "# Shape\n",
    "print('\\nImage Data Shape:', X.shape)\n",
    "print('Image Data Shape Features:', data.shape)\n",
    "print('Image Data Shape Target:', y.shape)\n"
   ]
  },
  {
   "cell_type": "markdown",
   "metadata": {},
   "source": [
    "### Split Train + Test, random_state"
   ]
  },
  {
   "cell_type": "code",
   "execution_count": 5,
   "metadata": {},
   "outputs": [
    {
     "name": "stdout",
     "output_type": "stream",
     "text": [
      "Length of our Training data:  14149 \n",
      "Length of our Testing data:  3538\n"
     ]
    }
   ],
   "source": [
    "# Split our data into testing and training.\n",
    "X_train, X_test, y_train, y_test = train_test_split(X, y, test_size=0.2, random_state=45)\n",
    "\n",
    "# Print the length and width of our testing data.\n",
    "print('Length of our Training data: ',len(X_train), '\\nLength of our Testing data: ',len(X_test))"
   ]
  },
  {
   "cell_type": "markdown",
   "metadata": {},
   "source": [
    "## KNN No Hyperparameter Tuning"
   ]
  },
  {
   "cell_type": "code",
   "execution_count": 6,
   "metadata": {},
   "outputs": [],
   "source": [
    "# since its a multi-class prediction, in order to prevent error we need some library\n",
    "from sklearn.multiclass import OneVsRestClassifier"
   ]
  },
  {
   "cell_type": "markdown",
   "metadata": {},
   "source": [
    "### Build and train KNN model"
   ]
  },
  {
   "cell_type": "code",
   "execution_count": 7,
   "metadata": {},
   "outputs": [
    {
     "data": {
      "text/plain": [
       "OneVsRestClassifier(estimator=KNeighborsClassifier())"
      ]
     },
     "execution_count": 7,
     "metadata": {},
     "output_type": "execute_result"
    }
   ],
   "source": [
    "# Initialize KNN model\n",
    "knn = OneVsRestClassifier(KNeighborsClassifier())\n",
    "\n",
    "# Use training data to fit KNN model\n",
    "knn.fit(X_train, y_train)"
   ]
  },
  {
   "cell_type": "code",
   "execution_count": 8,
   "metadata": {},
   "outputs": [
    {
     "name": "stdout",
     "output_type": "stream",
     "text": [
      "CPU times: user 2 µs, sys: 1 µs, total: 3 µs\n",
      "Wall time: 4.29 µs\n"
     ]
    }
   ],
   "source": [
    "# make prediction on entire test data\n",
    "%time\n",
    "predictions = knn.predict(X_test)"
   ]
  },
  {
   "cell_type": "code",
   "execution_count": 9,
   "metadata": {},
   "outputs": [],
   "source": [
    "pickle_out = open(\"predictions_no_hyperparameter_tuning.pickle\", \"wb\")\n",
    "pickle.dump(predictions, pickle_out)\n",
    "pickle_out.close()"
   ]
  },
  {
   "cell_type": "markdown",
   "metadata": {},
   "source": [
    "## Performance Metrics for No Hyperparameter Tuning"
   ]
  },
  {
   "cell_type": "code",
   "execution_count": 10,
   "metadata": {},
   "outputs": [],
   "source": [
    "import seaborn as sns # for confusion matrix\n",
    "from sklearn.metrics import accuracy_score, confusion_matrix,precision_score, recall_score, f1_score"
   ]
  },
  {
   "cell_type": "markdown",
   "metadata": {},
   "source": [
    "#### Accuracy"
   ]
  },
  {
   "cell_type": "code",
   "execution_count": 11,
   "metadata": {},
   "outputs": [
    {
     "name": "stdout",
     "output_type": "stream",
     "text": [
      "CPU times: user 2 µs, sys: 1 µs, total: 3 µs\n",
      "Wall time: 4.77 µs\n",
      "KNN Accuracy: 0.767\n"
     ]
    }
   ],
   "source": [
    "%%time\n",
    "print('KNN Accuracy: %.3f' % accuracy_score(y_test,predictions))\n",
    "# No Hypertuning: 76.7% Accuracy"
   ]
  },
  {
   "cell_type": "markdown",
   "metadata": {},
   "source": [
    "#### Confusion Matrix"
   ]
  },
  {
   "cell_type": "code",
   "execution_count": 50,
   "metadata": {},
   "outputs": [
    {
     "data": {
      "text/plain": [
       "Text(0.5, 1.0, 'Accuracy Score: 0.8275862068965517')"
      ]
     },
     "execution_count": 50,
     "metadata": {},
     "output_type": "execute_result"
    },
    {
     "data": {
      "image/png": "[encoded data removed]",
      "text/plain": [
       "<Figure size 648x648 with 2 Axes>"
      ]
     },
     "metadata": {
      "needs_background": "light"
     },
     "output_type": "display_data"
    }
   ],
   "source": [
    "# Calculate Confusion Matrix\n",
    "cm = confusion_matrix(y_test,predictions)\n",
    "\n",
    "plt.figure(figsize=(9,9))\n",
    "# Heatmap visualization of accuracy\n",
    "sns.heatmap(cm,annot=True, fmt='.3f', linewidths=.5, square=True,cmap='Blues_r')\n",
    "plt.ylabel('Actual label')\n",
    "plt.xlabel('Predicted label')\n",
    "all_sample_title = 'Accuracy Score: {0}'.format(accuracy_score(y_test,predictions))\n",
    "plt.title(all_sample_title,size=15)"
   ]
  },
  {
   "cell_type": "markdown",
   "metadata": {},
   "source": [
    "#### Precision"
   ]
  },
  {
   "cell_type": "code",
   "execution_count": 13,
   "metadata": {},
   "outputs": [
    {
     "name": "stdout",
     "output_type": "stream",
     "text": [
      "CPU times: user 2 µs, sys: 1 µs, total: 3 µs\n",
      "Wall time: 4.05 µs\n",
      "KNN Precision: 0.767\n"
     ]
    }
   ],
   "source": [
    "%%time\n",
    "print('KNN Precision: %.3f' % precision_score(y_test,predictions, average='micro'))\n",
    "# No Hypertuning: 76.7% Precision"
   ]
  },
  {
   "cell_type": "markdown",
   "metadata": {},
   "source": [
    "#### Recall"
   ]
  },
  {
   "cell_type": "code",
   "execution_count": 14,
   "metadata": {},
   "outputs": [
    {
     "name": "stdout",
     "output_type": "stream",
     "text": [
      "CPU times: user 2 µs, sys: 1e+03 ns, total: 3 µs\n",
      "Wall time: 4.29 µs\n",
      "KNN Recall: 0.767\n"
     ]
    }
   ],
   "source": [
    "%%time\n",
    "print('KNN Recall: %.3f' % recall_score(y_test,predictions, average='micro'))\n",
    "# No Hypertuning: 76.7% Recall"
   ]
  },
  {
   "cell_type": "markdown",
   "metadata": {},
   "source": [
    "#### F1 Score"
   ]
  },
  {
   "cell_type": "code",
   "execution_count": 15,
   "metadata": {},
   "outputs": [
    {
     "name": "stdout",
     "output_type": "stream",
     "text": [
      "CPU times: user 2 µs, sys: 0 ns, total: 2 µs\n",
      "Wall time: 3.1 µs\n",
      "KNN F1 Score: 0.767\n"
     ]
    }
   ],
   "source": [
    "%%time\n",
    "print('KNN F1 Score: %.3f' % f1_score(y_test,predictions, average='micro'))\n",
    "# No Hypertuning: 76.7% F1 Score"
   ]
  },
  {
   "cell_type": "markdown",
   "metadata": {},
   "source": [
    "## KNN Hyperparameter Tuning"
   ]
  },
  {
   "cell_type": "code",
   "execution_count": 39,
   "metadata": {},
   "outputs": [],
   "source": [
    "from sklearn.model_selection import cross_val_score\n",
    "\n",
    "# #create a new KNN model\n",
    "# knn_cv = OneVsRestClassifier(KNeighborsClassifier(n_neighbors=3))\n",
    "\n",
    "# #train model with cv of 5 \n",
    "# cv_scores = cross_val_score(knn_cv, X, y, cv=5)\n",
    "\n",
    "# #print each cv score (accuracy) and average them\n",
    "# print(cv_scores)\n",
    "# print(\"cv_scores mean:{}\" .format(np.mean(cv_scores)))"
   ]
  },
  {
   "cell_type": "markdown",
   "metadata": {},
   "source": [
    "### GridSearch for Hyperparameter Tuning"
   ]
  },
  {
   "cell_type": "code",
   "execution_count": 36,
   "metadata": {
    "scrolled": true
   },
   "outputs": [],
   "source": [
    "from sklearn.model_selection import GridSearchCV\n",
    "\n",
    "#create new a knn model\n",
    "knn2 = KNeighborsClassifier()\n",
    "\n",
    "#create a dictionary of all values we want to test for n_neighbors\n",
    "param_grid = {'n_neighbors': [5, 10, 25, 50, 100], 'metric': ['euclidean', 'manhattan', 'minkowski']}\n",
    "\n",
    "#use gridsearch to test all values for n_neighbors\n",
    "knn_gscv = GridSearchCV(knn2, param_grid, scoring='f1_micro', cv=5, verbose=3, n_jobs=-1)"
   ]
  },
  {
   "cell_type": "code",
   "execution_count": 38,
   "metadata": {},
   "outputs": [
    {
     "name": "stdout",
     "output_type": "stream",
     "text": [
      "Fitting 5 folds for each of 15 candidates, totalling 75 fits\n"
     ]
    },
    {
     "name": "stderr",
     "output_type": "stream",
     "text": [
      "[Parallel(n_jobs=-1)]: Using backend LokyBackend with 8 concurrent workers.\n",
      "[Parallel(n_jobs=-1)]: Done  16 tasks      | elapsed: 13.7min\n",
      "[Parallel(n_jobs=-1)]: Done  75 out of  75 | elapsed: 62.8min finished\n"
     ]
    },
    {
     "data": {
      "text/plain": [
       "GridSearchCV(cv=5, estimator=KNeighborsClassifier(), n_jobs=-1,\n",
       "             param_grid={'metric': ['euclidean', 'manhattan', 'minkowski'],\n",
       "                         'n_neighbors': [5, 10, 25, 50, 100]},\n",
       "             scoring='f1_micro', verbose=3)"
      ]
     },
     "execution_count": 38,
     "metadata": {},
     "output_type": "execute_result"
    }
   ],
   "source": [
    "#fit model to data\n",
    "# ~5 hours to compute\n",
    "knn_gscv.fit(X_train, y_train.values.ravel())"
   ]
  },
  {
   "cell_type": "code",
   "execution_count": 45,
   "metadata": {},
   "outputs": [],
   "source": [
    "#check top performing n_neighbors value\n",
    "best_params_ = knn_gscv.best_params_"
   ]
  },
  {
   "cell_type": "code",
   "execution_count": 46,
   "metadata": {},
   "outputs": [
    {
     "data": {
      "text/plain": [
       "0.820198974028456"
      ]
     },
     "execution_count": 46,
     "metadata": {},
     "output_type": "execute_result"
    }
   ],
   "source": [
    "#check mean score for the top performing value of n_neighbors\n",
    "knn_gscv.best_score_"
   ]
  },
  {
   "cell_type": "code",
   "execution_count": 47,
   "metadata": {},
   "outputs": [],
   "source": [
    "pickle_out = open(\"predictions_hyperparameter_gscv.pickle\", \"wb\")\n",
    "pickle.dump(knn_gscv, pickle_out)\n",
    "pickle_out.close()\n",
    "\n",
    "pickle_out = open(\"predictions_hyperparameter_cv.pickle\", \"wb\")\n",
    "pickle.dump(knn_cv, pickle_out)\n",
    "pickle_out.close()"
   ]
  },
  {
   "cell_type": "markdown",
   "metadata": {},
   "source": [
    "## Test Best Parameters "
   ]
  },
  {
   "cell_type": "code",
   "execution_count": 48,
   "metadata": {},
   "outputs": [
    {
     "name": "stdout",
     "output_type": "stream",
     "text": [
      "CPU times: user 4 µs, sys: 0 ns, total: 4 µs\n",
      "Wall time: 6.91 µs\n",
      "CPU times: user 2 µs, sys: 1 µs, total: 3 µs\n",
      "Wall time: 4.05 µs\n"
     ]
    }
   ],
   "source": [
    "# create new a knn model with best params\n",
    "knn2 = KNeighborsClassifier(**best_params_)\n",
    "\n",
    "#fit model to data\n",
    "%time\n",
    "knn2.fit(X_train, y_train.values.ravel())\n",
    "\n",
    "# make prediction on entire test data\n",
    "%time\n",
    "predictions = knn2.predict(X_test)"
   ]
  },
  {
   "cell_type": "markdown",
   "metadata": {},
   "source": [
    "### Performance Metrics on Best Params"
   ]
  },
  {
   "cell_type": "code",
   "execution_count": 52,
   "metadata": {},
   "outputs": [
    {
     "name": "stdout",
     "output_type": "stream",
     "text": [
      "KNN Precision: 0.828\n",
      "KNN Recall: 0.828\n",
      "KNN F1 Score: 0.828\n"
     ]
    },
    {
     "data": {
      "image/png": "[encoded data removed]",
      "text/plain": [
       "<Figure size 648x648 with 2 Axes>"
      ]
     },
     "metadata": {
      "needs_background": "light"
     },
     "output_type": "display_data"
    }
   ],
   "source": [
    "# Calculate Confusion Matrix\n",
    "cm = confusion_matrix(y_test,predictions)\n",
    "\n",
    "plt.figure(figsize=(9,9))\n",
    "# Heatmap visualization of accuracy\n",
    "sns.heatmap(cm,annot=True, fmt='.3f', linewidths=.5, square=True,cmap='Greens_r')\n",
    "plt.ylabel('Actual label')\n",
    "plt.xlabel('Predicted label')\n",
    "all_sample_title = 'Accuracy Score: {0}'.format(accuracy_score(y_test,predictions))\n",
    "plt.title(all_sample_title,size=15)\n",
    "\n",
    "print('KNN Precision: %.3f' % precision_score(y_test,predictions, average='micro'))\n",
    "print('KNN Recall: %.3f' % recall_score(y_test,predictions, average='micro'))\n",
    "print('KNN F1 Score: %.3f' % f1_score(y_test,predictions, average='micro'))\n"
   ]
  },
  {
   "cell_type": "markdown",
   "metadata": {},
   "source": [
    "### Saving & Exporting KNN model for future use"
   ]
  },
  {
   "cell_type": "code",
   "execution_count": 49,
   "metadata": {},
   "outputs": [],
   "source": [
    "# NAME OF MODEL\n",
    "filename = 'knn-face-mask-detection-model.pkl'\n",
    "\n",
    "# EXPORT AND SAVE MODEL \n",
    "pickle.dump(knn2, open(filename, 'wb'))"
   ]
  }
 ],
 "metadata": {
  "kernelspec": {
   "display_name": "Python 3",
   "language": "python",
   "name": "python3"
  }
 },
 "nbformat": 4,
 "nbformat_minor": 4
}
